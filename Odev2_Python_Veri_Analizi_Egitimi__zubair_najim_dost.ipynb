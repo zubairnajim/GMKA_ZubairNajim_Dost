{
  "cells": [
    {
      "cell_type": "markdown",
      "metadata": {
        "id": "view-in-github",
        "colab_type": "text"
      },
      "source": [
        "<a href=\"https://colab.research.google.com/github/zubairnajim/GMKA_ZubairNajim_Dost/blob/main/Odev2_Python_Veri_Analizi_Egitimi__zubair_najim_dost.ipynb\" target=\"_parent\"><img src=\"https://colab.research.google.com/assets/colab-badge.svg\" alt=\"Open In Colab\"/></a>"
      ]
    },
    {
      "cell_type": "markdown",
      "id": "68d00dc5",
      "metadata": {
        "id": "68d00dc5"
      },
      "source": [
        "# <center> Güney Marmara ve TRAI\n",
        "# <center> Python Veri Analizi Eğitimi\n",
        "# <center> Ödev 2"
      ]
    },
    {
      "cell_type": "markdown",
      "id": "2fa9e531",
      "metadata": {
        "id": "2fa9e531"
      },
      "source": [
        "### BIST30 Endeksinin incelenmesi"
      ]
    },
    {
      "cell_type": "markdown",
      "id": "f883fa72",
      "metadata": {
        "id": "f883fa72"
      },
      "source": [
        "1. <i> Yahoo Finance</i> sitesinden 2021 yılına ait BIST30 endeks değerlerini indiriniz"
      ]
    },
    {
      "cell_type": "code",
      "source": [],
      "metadata": {
        "id": "WiFe-hJnv-D8"
      },
      "id": "WiFe-hJnv-D8",
      "execution_count": null,
      "outputs": []
    },
    {
      "cell_type": "markdown",
      "id": "dc8b286f",
      "metadata": {
        "id": "dc8b286f"
      },
      "source": [
        "2. Veriyi özet metotları ile inceleyiniz (head, info, describe)"
      ]
    },
    {
      "cell_type": "code",
      "source": [],
      "metadata": {
        "id": "Ojsk0PBfwAvB"
      },
      "id": "Ojsk0PBfwAvB",
      "execution_count": null,
      "outputs": []
    },
    {
      "cell_type": "markdown",
      "id": "c6add05c",
      "metadata": {
        "id": "c6add05c"
      },
      "source": [
        "3. Veri temizleme:<br>\n",
        "\t• Tabloda sadece \"Adj Close\" (düzeltilmiş kapanış) sütununu bırakınız.<br>\n",
        "\t• \"Adj Close\" sütununu \" Kapanış (TRY)\" olarak yeniden adlandırınız."
      ]
    },
    {
      "cell_type": "code",
      "execution_count": null,
      "id": "dbf5495d",
      "metadata": {
        "id": "dbf5495d"
      },
      "outputs": [],
      "source": []
    },
    {
      "cell_type": "markdown",
      "id": "e5790e8d",
      "metadata": {
        "id": "e5790e8d"
      },
      "source": [
        "4. Tabloya yeni sütun ekleme:<br>\n",
        "*   Tabloya yeni bir sütun ekleyerek Kapanış (TRY) değerlerini 1 Ocak 2021 tarihindeki kapanış değerine göre normalize ediniz (yani tüm değerleri 1 Ocak 2021 değerine bölünüz). Bu alana \"Normalize\" alanı diyebilirsiniz.<br>\n",
        "\n"
      ]
    },
    {
      "cell_type": "code",
      "source": [],
      "metadata": {
        "id": "gftQYk2_M8fi"
      },
      "id": "gftQYk2_M8fi",
      "execution_count": null,
      "outputs": []
    },
    {
      "cell_type": "markdown",
      "source": [
        "5. Grafik çizdirme ve yorumlama:\n",
        "*   Tabloyu px.line grafiği olarak görselleştiriniz.<br>\n",
        "*   BIST30 endeksinin 2021 yılı boyunca değişimini yorumlayınız."
      ],
      "metadata": {
        "id": "0UrXxA7eM743"
      },
      "id": "0UrXxA7eM743"
    },
    {
      "cell_type": "code",
      "execution_count": null,
      "id": "667d21de",
      "metadata": {
        "id": "667d21de"
      },
      "outputs": [],
      "source": []
    },
    {
      "cell_type": "markdown",
      "id": "15c1f5f3",
      "metadata": {
        "id": "15c1f5f3"
      },
      "source": [
        "6. Değişim alanlarını ekleme ve grafikte koşullu renklendirme:<br>\n",
        "\t• Normalize etiğiniz alan için her satırda bir önceki satırdaki Normalize değeri ile olan farkını hesaplattırınız (bu sütunu \"degisim\" olarak isimlendirebilirsiniz).\n",
        "\t• Tabloyu px.bar grafiği olarak görselleştiriniz.<br>\n",
        "\t• px.bar grafiğinde endeksin yükseldiği günleri \"yeşil\", düştüğü günleri \"kırmızı\" olarak görselleştiriniz."
      ]
    },
    {
      "cell_type": "code",
      "execution_count": null,
      "id": "f580be7c",
      "metadata": {
        "id": "f580be7c"
      },
      "outputs": [],
      "source": []
    },
    {
      "cell_type": "markdown",
      "source": [
        "7. Histogram çizmek:\n",
        "\n",
        "*   px.histogram grafiğini çizdiriniz.\n",
        "*   Bölüm sayısını (nbins) nasıl belirlediniz,açıklayınız.\n",
        "*   Elde ettiğiniz grafiği yorumlayınız.\n",
        "\n"
      ],
      "metadata": {
        "id": "dORv1i8lNoGf"
      },
      "id": "dORv1i8lNoGf"
    },
    {
      "cell_type": "code",
      "source": [],
      "metadata": {
        "id": "nXqFaxUYl_U0"
      },
      "id": "nXqFaxUYl_U0",
      "execution_count": null,
      "outputs": []
    }
  ],
  "metadata": {
    "kernelspec": {
      "display_name": "Python 3 (ipykernel)",
      "language": "python",
      "name": "python3"
    },
    "language_info": {
      "codemirror_mode": {
        "name": "ipython",
        "version": 3
      },
      "file_extension": ".py",
      "mimetype": "text/x-python",
      "name": "python",
      "nbconvert_exporter": "python",
      "pygments_lexer": "ipython3",
      "version": "3.9.13"
    },
    "colab": {
      "provenance": [],
      "include_colab_link": true
    }
  },
  "nbformat": 4,
  "nbformat_minor": 5
}